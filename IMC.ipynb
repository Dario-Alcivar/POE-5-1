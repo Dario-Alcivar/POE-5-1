{
  "nbformat": 4,
  "nbformat_minor": 0,
  "metadata": {
    "colab": {
      "name": "IMC.ipynb",
      "provenance": [],
      "collapsed_sections": [],
      "authorship_tag": "ABX9TyOm2ipoBgqm5ZpgyQgILHFS",
      "include_colab_link": true
    },
    "kernelspec": {
      "name": "python3",
      "display_name": "Python 3"
    },
    "language_info": {
      "name": "python"
    }
  },
  "cells": [
    {
      "cell_type": "markdown",
      "metadata": {
        "id": "view-in-github",
        "colab_type": "text"
      },
      "source": [
        "<a href=\"https://colab.research.google.com/github/Dario-Alcivar/POE-5-1/blob/main/IMC.ipynb\" target=\"_parent\"><img src=\"https://colab.research.google.com/assets/colab-badge.svg\" alt=\"Open In Colab\"/></a>"
      ]
    },
    {
      "cell_type": "code",
      "execution_count": 17,
      "metadata": {
        "colab": {
          "base_uri": "https://localhost:8080/"
        },
        "id": "6qFd_BUU2the",
        "outputId": "b9f9130b-d75e-4294-c727-e45032098415"
      },
      "outputs": [
        {
          "output_type": "stream",
          "name": "stdout",
          "text": [
            "18.870663376397157\n"
          ]
        }
      ],
      "source": [
        "#@title Calculo del Indice de Masa Corporal { run: \"auto\", vertical-output: true }\n",
        "Estatura = 1.66 #@param {type:\"number\"}\n",
        "Peso =  52#@param {type:\"number\"}\n",
        "print((Peso)/(Estatura*Estatura))"
      ]
    }
  ]
}