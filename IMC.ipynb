{
  "nbformat": 4,
  "nbformat_minor": 0,
  "metadata": {
    "colab": {
      "name": "IMC.ipynb",
      "provenance": [],
      "collapsed_sections": [],
      "authorship_tag": "ABX9TyOq4GWIx7j3rDHUafn+GEZK",
      "include_colab_link": true
    },
    "kernelspec": {
      "name": "python3",
      "display_name": "Python 3"
    },
    "language_info": {
      "name": "python"
    }
  },
  "cells": [
    {
      "cell_type": "markdown",
      "metadata": {
        "id": "view-in-github",
        "colab_type": "text"
      },
      "source": [
        "<a href=\"https://colab.research.google.com/github/Dario-Alcivar/POE-5-1/blob/main/IMC.ipynb\" target=\"_parent\"><img src=\"https://colab.research.google.com/assets/colab-badge.svg\" alt=\"Open In Colab\"/></a>"
      ]
    },
    {
      "cell_type": "code",
      "execution_count": 6,
      "metadata": {
        "colab": {
          "base_uri": "https://localhost:8080/"
        },
        "id": "6qFd_BUU2the",
        "outputId": "d1f6962e-c327-426e-b6f9-99250e57051b"
      },
      "outputs": [
        {
          "output_type": "stream",
          "name": "stdout",
          "text": [
            "16.330381768036002\n"
          ]
        }
      ],
      "source": [
        "#@title Calculo del Indice de Masa Corporal { run: \"auto\", vertical-output: true }\n",
        "Estatura = 1.66 #@param {type:\"number\"}\n",
        "Peso = 45 #@param {type:\"number\"}\n",
        "print((Peso)/(Estatura*Estatura))"
      ]
    }
  ]
}